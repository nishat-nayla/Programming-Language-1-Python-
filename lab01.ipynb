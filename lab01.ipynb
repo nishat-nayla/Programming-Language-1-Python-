{
  "nbformat": 4,
  "nbformat_minor": 0,
  "metadata": {
    "colab": {
      "provenance": [],
      "authorship_tag": "ABX9TyMYK+M4AJKnZbMIXJlDV9OL",
      "include_colab_link": true
    },
    "kernelspec": {
      "name": "python3",
      "display_name": "Python 3"
    },
    "language_info": {
      "name": "python"
    }
  },
  "cells": [
    {
      "cell_type": "markdown",
      "metadata": {
        "id": "view-in-github",
        "colab_type": "text"
      },
      "source": [
        "<a href=\"https://colab.research.google.com/github/nishat-nayla/Programming-Language-1-Python-/blob/main/lab01.ipynb\" target=\"_parent\"><img src=\"https://colab.research.google.com/assets/colab-badge.svg\" alt=\"Open In Colab\"/></a>"
      ]
    },
    {
      "cell_type": "code",
      "execution_count": 1,
      "metadata": {
        "colab": {
          "base_uri": "https://localhost:8080/"
        },
        "id": "OLX00QCOOxFa",
        "outputId": "80a71764-811a-464e-9a6b-bc9ddfc8690c"
      },
      "outputs": [
        {
          "output_type": "stream",
          "name": "stdout",
          "text": [
            "Hello World\n"
          ]
        }
      ],
      "source": [
        "#Task01\n",
        "print(\"Hello World\")"
      ]
    },
    {
      "cell_type": "code",
      "source": [
        "#Task02\n",
        "print(54+56)"
      ],
      "metadata": {
        "colab": {
          "base_uri": "https://localhost:8080/"
        },
        "id": "f67sVNzoPkTE",
        "outputId": "455a2d01-3d9b-4b62-a41a-1b089be7dcdf"
      },
      "execution_count": null,
      "outputs": [
        {
          "output_type": "stream",
          "name": "stdout",
          "text": [
            "110\n"
          ]
        }
      ]
    },
    {
      "cell_type": "code",
      "source": [
        "#Task03\n",
        "season = \"Fall\"\n",
        "year = 2022\n",
        "print(season)\n",
        "print(year)"
      ],
      "metadata": {
        "colab": {
          "base_uri": "https://localhost:8080/"
        },
        "id": "SzZs-KMpPmvN",
        "outputId": "d7026e84-daa8-4b0f-f0e9-b7ebbd7637e3"
      },
      "execution_count": null,
      "outputs": [
        {
          "output_type": "stream",
          "name": "stdout",
          "text": [
            "Fall\n",
            "2022\n"
          ]
        }
      ]
    },
    {
      "cell_type": "code",
      "source": [
        "#Task04\n",
        "name= input(\"Enter your name:\")\n",
        "print(\"Your name is\",name)"
      ],
      "metadata": {
        "colab": {
          "base_uri": "https://localhost:8080/"
        },
        "id": "Gf1JOSQ4Pm2n",
        "outputId": "dba5284f-3485-40a9-b74c-acc7fc568f82"
      },
      "execution_count": null,
      "outputs": [
        {
          "output_type": "stream",
          "name": "stdout",
          "text": [
            "Enter your name:john\n",
            "Your name is john\n"
          ]
        }
      ]
    },
    {
      "cell_type": "code",
      "source": [
        "#Task05\n",
        "M = int(input(\"Enter first number:\"))\n",
        "N = int(input(\"Enter second number:\"))\n",
        "print(M,\"^\",N,\":\",M**N)"
      ],
      "metadata": {
        "colab": {
          "base_uri": "https://localhost:8080/"
        },
        "id": "aT5NF7hTPm5q",
        "outputId": "65705efa-2853-4483-cf6e-df43a85a5922"
      },
      "execution_count": null,
      "outputs": [
        {
          "output_type": "stream",
          "name": "stdout",
          "text": [
            "Enter first number:3\n",
            "Enter second number:6\n",
            "3 ^ 6 : 729\n"
          ]
        }
      ]
    },
    {
      "cell_type": "code",
      "source": [
        "#Task06\n",
        "weight = int(input(\"Enter total weight:\"))\n",
        "print(weight-(weight%4))"
      ],
      "metadata": {
        "colab": {
          "base_uri": "https://localhost:8080/"
        },
        "id": "7-JCocfGPm8p",
        "outputId": "82aab9cd-924a-4e95-9e3e-c41dcb80995b"
      },
      "execution_count": null,
      "outputs": [
        {
          "output_type": "stream",
          "name": "stdout",
          "text": [
            "Enter total weight:23\n",
            "20\n"
          ]
        }
      ]
    },
    {
      "cell_type": "code",
      "source": [
        "#Task07\n",
        "A=int(input(\"Entr first number \"))\n",
        "B=int(input(\"Entr 2nd number \"))\n",
        "C=int(input(\"Entr 3rd number \"))\n",
        "D=float(input(\"Entr 4th number \"))\n",
        "sum= int(A**C+B*A-D/3))\n",
        "print(sum)"
      ],
      "metadata": {
        "colab": {
          "base_uri": "https://localhost:8080/"
        },
        "id": "ZQxfLia-Pm_O",
        "outputId": "4805c20b-ca60-44cf-956a-74144ebbec75"
      },
      "execution_count": null,
      "outputs": [
        {
          "output_type": "stream",
          "name": "stdout",
          "text": [
            "Entr first number 2\n",
            "Entr 2nd number 6\n",
            "Entr 3rd number 8\n",
            "Entr 4th number 1.3\n",
            "267\n"
          ]
        }
      ]
    },
    {
      "cell_type": "code",
      "source": [
        "#Task08\n",
        "total = int(input(\"Enter total number of Chocolates\"))\n",
        "print(\"Each friend will receive\",int(total/3),\"chocolates\")\n",
        "print(\"The number of remaining chocolates is\",total % 3)"
      ],
      "metadata": {
        "colab": {
          "base_uri": "https://localhost:8080/"
        },
        "id": "YabGzdtBPnCG",
        "outputId": "a363bdc3-dbfa-41f8-e4b2-80359f277ae8"
      },
      "execution_count": null,
      "outputs": [
        {
          "output_type": "stream",
          "name": "stdout",
          "text": [
            "Enter total number of Chocolates90\n",
            "Each friend will receive 30 chocolates\n",
            "The number of remaining chocolates is 0\n"
          ]
        }
      ]
    },
    {
      "cell_type": "code",
      "source": [
        "#Task09\n",
        "a=input()\n",
        "b=input()\n",
        "print(b+a)"
      ],
      "metadata": {
        "colab": {
          "base_uri": "https://localhost:8080/"
        },
        "id": "ew2rh01gPnE3",
        "outputId": "fac46dbb-03ed-44c7-a1be-fab2f470d412"
      },
      "execution_count": null,
      "outputs": [
        {
          "output_type": "stream",
          "name": "stdout",
          "text": [
            "hello\n",
            "world\n",
            "worldhello\n"
          ]
        }
      ]
    },
    {
      "cell_type": "code",
      "source": [
        "#Task10\n",
        "text=input(\"Enter the line: \")\n",
        "print(text[0])"
      ],
      "metadata": {
        "colab": {
          "base_uri": "https://localhost:8080/"
        },
        "id": "BymHAeGGPnHm",
        "outputId": "bae762fe-29e5-476b-a1d1-38f4161efaa9"
      },
      "execution_count": null,
      "outputs": [
        {
          "output_type": "stream",
          "name": "stdout",
          "text": [
            "Enter the line: the fox is jumping over\n",
            "t\n"
          ]
        }
      ]
    },
    {
      "cell_type": "code",
      "source": [
        "#Task11\n",
        "num=int(input(\"Please enter a number \"))\n",
        "if(num%2==0):\n",
        "  print(\"True\")\n",
        "else:\n",
        "  print(\"False\")"
      ],
      "metadata": {
        "colab": {
          "base_uri": "https://localhost:8080/"
        },
        "id": "AIFvYR0oQFk-",
        "outputId": "82060da2-4f2a-44d5-e698-71a36465e14c"
      },
      "execution_count": null,
      "outputs": [
        {
          "output_type": "stream",
          "name": "stdout",
          "text": [
            "Please enter a number 90\n",
            "True\n"
          ]
        }
      ]
    }
  ]
}