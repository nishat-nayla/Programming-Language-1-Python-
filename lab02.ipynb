{
  "nbformat": 4,
  "nbformat_minor": 0,
  "metadata": {
    "colab": {
      "provenance": [],
      "authorship_tag": "ABX9TyMcXUUzY34pWGgqeW3gcWY6",
      "include_colab_link": true
    },
    "kernelspec": {
      "name": "python3",
      "display_name": "Python 3"
    },
    "language_info": {
      "name": "python"
    }
  },
  "cells": [
    {
      "cell_type": "markdown",
      "metadata": {
        "id": "view-in-github",
        "colab_type": "text"
      },
      "source": [
        "<a href=\"https://colab.research.google.com/github/nishat-nayla/Programming-Language-1-Python-/blob/main/lab02.ipynb\" target=\"_parent\"><img src=\"https://colab.research.google.com/assets/colab-badge.svg\" alt=\"Open In Colab\"/></a>"
      ]
    },
    {
      "cell_type": "markdown",
      "source": [
        "Task01\n"
      ],
      "metadata": {
        "id": "aE36Mg0rlsQU"
      }
    },
    {
      "cell_type": "code",
      "execution_count": null,
      "metadata": {
        "colab": {
          "base_uri": "https://localhost:8080/"
        },
        "id": "YafX8OsbiBK8",
        "outputId": "d10c850a-d8bf-41c7-f72e-77b05b0b86cc"
      },
      "outputs": [
        {
          "output_type": "stream",
          "name": "stdout",
          "text": [
            "4\n",
            "5\n",
            "Sum = 9\n",
            "Product = 20\n",
            "Differeance = -1\n"
          ]
        }
      ],
      "source": [
        "a=int(input())\n",
        "b=int(input())\n",
        "print(\"Sum =\",a+b)\n",
        "print(\"Product =\",a*b)\n",
        "print(\"Differeance =\",a-b)"
      ]
    },
    {
      "cell_type": "markdown",
      "source": [
        "Task02"
      ],
      "metadata": {
        "id": "FmX9bne-lwjo"
      }
    },
    {
      "cell_type": "code",
      "source": [
        "import math\n",
        "r=int(input())\n",
        "area= math.pi*math.pow(r,2)\n",
        "cir=2*math.pi*r\n",
        "print(area)\n",
        "print(cir)"
      ],
      "metadata": {
        "colab": {
          "base_uri": "https://localhost:8080/"
        },
        "id": "rlFGe5j9lS3l",
        "outputId": "f1379c1b-3294-42d4-906e-dbdddd3ae210"
      },
      "execution_count": null,
      "outputs": [
        {
          "output_type": "stream",
          "name": "stdout",
          "text": [
            "4\n",
            "50.26548245743669\n",
            "25.132741228718345\n"
          ]
        }
      ]
    },
    {
      "cell_type": "markdown",
      "source": [
        "Task03"
      ],
      "metadata": {
        "id": "79K2o0e9mfYB"
      }
    },
    {
      "cell_type": "code",
      "source": [
        "a=int(input())\n",
        "b=int(input())\n",
        "if(a>b):\n",
        "  print(\"First is greater\")\n",
        "elif(b>a):\n",
        "  print(\"Second is greater\")\n",
        "else:\n",
        "  print(\"The numbers are equal\")"
      ],
      "metadata": {
        "colab": {
          "base_uri": "https://localhost:8080/"
        },
        "id": "TYufhwMxmfLa",
        "outputId": "72bac553-84a7-4944-bfde-d54f779a4c69"
      },
      "execution_count": null,
      "outputs": [
        {
          "output_type": "stream",
          "name": "stdout",
          "text": [
            "11\n",
            "11\n",
            "The numbers are equal\n"
          ]
        }
      ]
    },
    {
      "cell_type": "markdown",
      "source": [
        "Task04 "
      ],
      "metadata": {
        "id": "KTr3M58Lnneb"
      }
    },
    {
      "cell_type": "code",
      "source": [
        "a=int(input())\n",
        "b=int(input())\n",
        "if(a>b):\n",
        "  print(a-b)\n",
        "else:\n",
        "  print(b-a)"
      ],
      "metadata": {
        "id": "_U6qilQlnyOH",
        "colab": {
          "base_uri": "https://localhost:8080/"
        },
        "outputId": "04309943-573c-44b5-9d89-bdd58f40f616"
      },
      "execution_count": null,
      "outputs": [
        {
          "output_type": "stream",
          "name": "stdout",
          "text": [
            "-40\n",
            "-4\n",
            "36\n"
          ]
        }
      ]
    },
    {
      "cell_type": "markdown",
      "source": [
        "Task05"
      ],
      "metadata": {
        "id": "wJAYwxz9n1N9"
      }
    },
    {
      "cell_type": "code",
      "source": [
        "a=int(input())\n",
        "if(a%2==0):\n",
        "  print(\"The number is even\")\n",
        "else:\n",
        "  print(\"The number is odd\")"
      ],
      "metadata": {
        "id": "rZ0azKd8nzqe",
        "colab": {
          "base_uri": "https://localhost:8080/"
        },
        "outputId": "df0b982d-f75c-42da-e108-d2a70a5c2de2"
      },
      "execution_count": null,
      "outputs": [
        {
          "output_type": "stream",
          "name": "stdout",
          "text": [
            "7\n",
            "The number is odd\n"
          ]
        }
      ]
    },
    {
      "cell_type": "markdown",
      "source": [
        "Task06"
      ],
      "metadata": {
        "id": "69Nz0VFcn35x"
      }
    },
    {
      "cell_type": "code",
      "source": [
        "x=int(input())\n",
        "if(x%2==0 or x%5==0):\n",
        "  print(x)\n",
        "else:\n",
        "  print(\"Not a multiple of 2 OR 5\")"
      ],
      "metadata": {
        "colab": {
          "base_uri": "https://localhost:8080/"
        },
        "id": "F0mKTqeAnzx0",
        "outputId": "9e6cb298-d017-4d6c-bc04-474c7ad65295"
      },
      "execution_count": null,
      "outputs": [
        {
          "output_type": "stream",
          "name": "stdout",
          "text": [
            "3\n",
            "Not a multiple of 2 OR 5\n"
          ]
        }
      ]
    },
    {
      "cell_type": "markdown",
      "source": [
        "Task07"
      ],
      "metadata": {
        "id": "M7Oz5lHan6nx"
      }
    },
    {
      "cell_type": "code",
      "source": [
        "x=int(input())\n",
        "if(x%2==0 and x%5==0):\n",
        "  print(\"Multiple of 2 and 5 both\")\n",
        "elif(x%2==0 or x%5==0):\n",
        "  print(x)\n",
        "else:\n",
        "  print(\"Not a multiple we want\")"
      ],
      "metadata": {
        "id": "M6S7Y2M-nz1J",
        "colab": {
          "base_uri": "https://localhost:8080/"
        },
        "outputId": "9305e084-f8b5-4eea-a26b-890a5d3c5c2f"
      },
      "execution_count": null,
      "outputs": [
        {
          "output_type": "stream",
          "name": "stdout",
          "text": [
            "17\n",
            "Not a multiple we want\n"
          ]
        }
      ]
    },
    {
      "cell_type": "markdown",
      "source": [
        "Task08"
      ],
      "metadata": {
        "id": "xKZh5mJEQjcp"
      }
    },
    {
      "cell_type": "code",
      "source": [
        "x=int(input())\n",
        "if(x%2==0 and x%5==0):\n",
        "  print(x)\n",
        "else:\n",
        "  print(\"Not a multiple of 2 and 5 both\")"
      ],
      "metadata": {
        "colab": {
          "base_uri": "https://localhost:8080/"
        },
        "id": "kN5Q1wpBQhfq",
        "outputId": "f21cb5b1-6d0f-4c46-c0e4-d671ad39515d"
      },
      "execution_count": null,
      "outputs": [
        {
          "output_type": "stream",
          "name": "stdout",
          "text": [
            "15\n",
            "Not a multiple of 2 and 5 both\n"
          ]
        }
      ]
    },
    {
      "cell_type": "markdown",
      "source": [
        "Task09"
      ],
      "metadata": {
        "id": "hj7kTY93q7ln"
      }
    },
    {
      "cell_type": "code",
      "source": [
        "x=int(input())\n",
        "print(\"Hour\",int(x/3600))\n",
        "print(\"Min\",int((x%3600)/60))\n",
        "print(\"Sec\",(x%3600)%60)"
      ],
      "metadata": {
        "colab": {
          "base_uri": "https://localhost:8080/"
        },
        "id": "5yi_-80Wnz4O",
        "outputId": "6e39d40e-9720-45f8-8b18-cff591f8c0ea"
      },
      "execution_count": null,
      "outputs": [
        {
          "output_type": "stream",
          "name": "stdout",
          "text": [
            "10000\n",
            "Hour 2\n",
            "Min 46\n",
            "Sec 40\n"
          ]
        }
      ]
    },
    {
      "cell_type": "markdown",
      "source": [
        "Task10\n"
      ],
      "metadata": {
        "id": "TP7qqx8QREH_"
      }
    },
    {
      "cell_type": "code",
      "source": [
        "x=int(input())\n",
        "if(x<0):\n",
        "  print(\"Hour cannot be negative\")\n",
        "elif(x<=40):\n",
        "  print(x*200)\n",
        "elif(x<=168):\n",
        "  print(8000+(x -40) * 300)\n",
        "else:\n",
        "  print(\"Impossible to work more than 168 hours weekly\")"
      ],
      "metadata": {
        "id": "MHPlDaCunz9p",
        "colab": {
          "base_uri": "https://localhost:8080/"
        },
        "outputId": "ee1256a7-5566-49b6-9881-190892aa8676"
      },
      "execution_count": null,
      "outputs": [
        {
          "output_type": "stream",
          "name": "stdout",
          "text": [
            "100\n",
            "26000\n"
          ]
        }
      ]
    },
    {
      "cell_type": "markdown",
      "source": [
        "Task11"
      ],
      "metadata": {
        "id": "u0pWDDTtTN97"
      }
    },
    {
      "cell_type": "code",
      "source": [
        "x=int(input())\n",
        "if(x<100):\n",
        "  print(3000-125*x**2)\n",
        "else:\n",
        "  print(12000/(4+x**2/14900))"
      ],
      "metadata": {
        "colab": {
          "base_uri": "https://localhost:8080/"
        },
        "id": "UHzphCguUHcX",
        "outputId": "217b3f2c-ebbb-4d21-a08b-d6a02b750b52"
      },
      "execution_count": null,
      "outputs": [
        {
          "output_type": "stream",
          "name": "stdout",
          "text": [
            "120\n",
            "2416.2162162162163\n"
          ]
        }
      ]
    },
    {
      "cell_type": "markdown",
      "source": [
        "Task12"
      ],
      "metadata": {
        "id": "j5nHmmf9TQeK"
      }
    },
    {
      "cell_type": "code",
      "source": [
        "x=int(input())\n",
        "if(x<0 and x>23):\n",
        "  print(\"Wrong time\")\n",
        "elif(x>3 and x<7):\n",
        "  print(\"Breakfast\")\n",
        "elif(x>11 and x<14):\n",
        "  print(\"Lunch\")\n",
        "elif(x>18 and x<21):\n",
        "  print(\"Dinner\")\n",
        "else:\n",
        "  print(\"Patience is a virtue\")"
      ],
      "metadata": {
        "colab": {
          "base_uri": "https://localhost:8080/"
        },
        "id": "LJHTgbE6Uqde",
        "outputId": "83e90fdd-d3ff-4484-f1d6-b80e30b8ebb4"
      },
      "execution_count": null,
      "outputs": [
        {
          "output_type": "stream",
          "name": "stdout",
          "text": [
            "24\n",
            "Patience is a virtue\n"
          ]
        }
      ]
    },
    {
      "cell_type": "markdown",
      "source": [
        "Task13"
      ],
      "metadata": {
        "id": "tMJTQvG2TTX_"
      }
    },
    {
      "cell_type": "code",
      "source": [
        "mark=int(input())\n",
        "if(mark>=0 and mark <=100):\n",
        "  if(mark>89):\n",
        "    print(\"A\")\n",
        "  elif(mark>79):\n",
        "    print(\"B\")\n",
        "  elif(mark>69):\n",
        "    print(\"C\")\n",
        "  elif(mark>59):\n",
        "    print(\"D\")\n",
        "  elif(mark>49):\n",
        "    print(\"E\")\n",
        "  else:\n",
        "    print(\"F\")\n",
        "else:\n",
        "  print(\"invalid number\")"
      ],
      "metadata": {
        "id": "sX3uCRj8Wlcb",
        "colab": {
          "base_uri": "https://localhost:8080/"
        },
        "outputId": "22742234-5cbe-4218-a68d-afa02b2b1109"
      },
      "execution_count": 5,
      "outputs": [
        {
          "output_type": "stream",
          "name": "stdout",
          "text": [
            "65\n",
            "D\n"
          ]
        }
      ]
    },
    {
      "cell_type": "markdown",
      "source": [
        "Task14"
      ],
      "metadata": {
        "id": "Vf2F7vxnTTjw"
      }
    },
    {
      "cell_type": "code",
      "source": [
        "distance=int(input())\n",
        "time=int(input())\n",
        "v=(distance/1000)/(time/3600)\n",
        "if(v>90):\n",
        "  print(\"Too fast. Only a few changes should suffice.\")\n",
        "elif(v<60):\n",
        "  print(\"Too slow. Needs more changes.\")\n",
        "else:\n",
        "  print(\"Velocity is okay. The car is ready!\")"
      ],
      "metadata": {
        "colab": {
          "base_uri": "https://localhost:8080/"
        },
        "id": "oW3TH-m3Bf0Y",
        "outputId": "f084a1da-1704-46a5-f610-a0bf03c25ec4"
      },
      "execution_count": 11,
      "outputs": [
        {
          "output_type": "stream",
          "name": "stdout",
          "text": [
            "25400\n",
            "3600\n",
            "Too slow. Needs more changes.\n"
          ]
        }
      ]
    },
    {
      "cell_type": "markdown",
      "source": [
        "Task15\n"
      ],
      "metadata": {
        "id": "bc4KiHF-TTsx"
      }
    },
    {
      "cell_type": "code",
      "source": [
        "cgpa=float(input())\n",
        "credit=int(input())\n",
        "if(cgpa<3.8 and credit<30):\n",
        "  print(\"The student is not eligible for a waiver\")\n",
        "elif(cgpa==4.0):\n",
        "  print(\"The student is eligible for a waiver of 100 percent.\")\n",
        "elif(cgpa>=3.95):\n",
        "  print(\"The student is eligible for a waiver of 75 percent.\")\n",
        "elif(cgpa>=3.9):\n",
        "  print(\"The student is eligible for a waiver of 50 percent.\")\n",
        "else:\n",
        "  print(\"The student is eligible for a waiver of 25 percent.\")"
      ],
      "metadata": {
        "colab": {
          "base_uri": "https://localhost:8080/"
        },
        "id": "MH3a8Mp8W0q1",
        "outputId": "42704d8d-d10b-4244-9269-469bc49f9cdb"
      },
      "execution_count": 2,
      "outputs": [
        {
          "output_type": "stream",
          "name": "stdout",
          "text": [
            "3.79\n",
            "24\n",
            "The student is not eligible for a waiver\n"
          ]
        }
      ]
    }
  ]
}