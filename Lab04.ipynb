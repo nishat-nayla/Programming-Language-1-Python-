{
  "cells": [
    {
      "cell_type": "markdown",
      "metadata": {
        "id": "view-in-github",
        "colab_type": "text"
      },
      "source": [
        "<a href=\"https://colab.research.google.com/github/nishat-nayla/Programming-Language-1-Python-/blob/main/Lab04.ipynb\" target=\"_parent\"><img src=\"https://colab.research.google.com/assets/colab-badge.svg\" alt=\"Open In Colab\"/></a>"
      ]
    },
    {
      "cell_type": "markdown",
      "metadata": {
        "id": "rnvrym_FrtAQ"
      },
      "source": [
        "Task1"
      ]
    },
    {
      "cell_type": "code",
      "execution_count": null,
      "metadata": {
        "colab": {
          "base_uri": "https://localhost:8080/"
        },
        "id": "CgX7uDy1sRsL",
        "outputId": "7616e572-57c4-47d6-a0f4-bf28127925fa"
      },
      "outputs": [
        {
          "name": "stdout",
          "output_type": "stream",
          "text": [
            "011ESC"
          ]
        }
      ],
      "source": [
        "i=-1\n",
        "s=\"CSE110\"\n",
        "while(i>=-len(s)):\n",
        "  print(s[i], end=\"\")\n",
        "  i-=1"
      ]
    },
    {
      "cell_type": "code",
      "execution_count": null,
      "metadata": {
        "colab": {
          "base_uri": "https://localhost:8080/"
        },
        "id": "u5mJKooAtP89",
        "outputId": "fd88606b-6b3d-430b-f13b-3c266f2a0e5a"
      },
      "outputs": [
        {
          "name": "stdout",
          "output_type": "stream",
          "text": [
            "011ESC\n"
          ]
        }
      ],
      "source": [
        "s=\"CSE110\"\n",
        "print(s[5::-1])"
      ]
    },
    {
      "cell_type": "code",
      "source": [
        "s=input()\n",
        "for i in range(len(s)-1, -1,-1):\n",
        "  print(s[i], end=\"\")"
      ],
      "metadata": {
        "colab": {
          "base_uri": "https://localhost:8080/"
        },
        "id": "kcM_e4Jvfz-U",
        "outputId": "3e9191e2-86f0-4d5c-b30c-dc8792b3f006"
      },
      "execution_count": null,
      "outputs": [
        {
          "output_type": "stream",
          "name": "stdout",
          "text": [
            "string\n",
            "gnirts"
          ]
        }
      ]
    },
    {
      "cell_type": "code",
      "execution_count": null,
      "metadata": {
        "colab": {
          "base_uri": "https://localhost:8080/"
        },
        "id": "oylqJkCW35U4",
        "outputId": "8d71e40c-f690-4718-98ce-5022d62abf2b"
      },
      "outputs": [
        {
          "output_type": "stream",
          "name": "stdout",
          "text": [
            "string\n",
            "gnirts"
          ]
        }
      ],
      "source": [
        "s=input()\n",
        "for i in range(-1, -len(s)-1,-1):\n",
        "  print(s[i], end=\"\")"
      ]
    },
    {
      "cell_type": "markdown",
      "metadata": {
        "id": "wdib37BcrtC3"
      },
      "source": [
        "Task2"
      ]
    },
    {
      "cell_type": "code",
      "execution_count": null,
      "metadata": {
        "colab": {
          "base_uri": "https://localhost:8080/"
        },
        "id": "hmY7gOJbuHU5",
        "outputId": "80c07899-8f2f-407a-ec2b-ba4fb1d7a62e"
      },
      "outputs": [
        {
          "name": "stdout",
          "output_type": "stream",
          "text": [
            "aBcd1234defg\n",
            "5\n",
            "21dcBa34defg\n"
          ]
        }
      ],
      "source": [
        "s=input()\n",
        "n=int(input())\n",
        "print(s[n::-1]+s[n+1:])"
      ]
    },
    {
      "cell_type": "markdown",
      "metadata": {
        "id": "4NIHTGqOrtFn"
      },
      "source": [
        "Task3"
      ]
    },
    {
      "cell_type": "code",
      "execution_count": null,
      "metadata": {
        "colab": {
          "base_uri": "https://localhost:8080/"
        },
        "id": "3M1yJIuCvk1T",
        "outputId": "2f079037-deaa-4840-965b-47f1d2b376b5"
      },
      "outputs": [
        {
          "name": "stdout",
          "output_type": "stream",
          "text": [
            "12344ab0\n",
            "Not a Binary Number\n"
          ]
        }
      ],
      "source": [
        "s = input()\n",
        "if(s.count('0')+s.count('1')==len(s)):\n",
        "    print(\"Binary Number\")\n",
        "else:\n",
        "    print(\"Not a Binary Number\")"
      ]
    },
    {
      "cell_type": "code",
      "execution_count": null,
      "metadata": {
        "colab": {
          "background_save": true
        },
        "id": "iSMGJ4IP3x-t",
        "outputId": "bce137da-ab31-46fc-c81a-271eb0aa6dbc"
      },
      "outputs": [
        {
          "name": "stdout",
          "output_type": "stream",
          "text": [
            "not a bin\n"
          ]
        }
      ],
      "source": []
    },
    {
      "cell_type": "markdown",
      "metadata": {
        "id": "AqzgI2w0rtIX"
      },
      "source": [
        "Task4"
      ]
    },
    {
      "cell_type": "code",
      "execution_count": null,
      "metadata": {
        "colab": {
          "base_uri": "https://localhost:8080/"
        },
        "id": "E4kInTgwx9uG",
        "outputId": "1ad95858-6b2b-489c-f2cf-c8b077bcf9c8"
      },
      "outputs": [
        {
          "name": "stdout",
          "output_type": "stream",
          "text": [
            "ber\n",
            "best\n"
          ]
        }
      ],
      "source": [
        "s = input()\n",
        "if(s.endswith(\"er\")):\n",
        "  print(s.replace(\"er\",\"est\"))\n",
        "elif s.endswith(\"est\"):\n",
        "  print(s)\n",
        "elif(len(s)<4):\n",
        "  print(s)\n",
        "elif(len(s)>3):\n",
        "  print(s+\"er\")\n"
      ]
    },
    {
      "cell_type": "markdown",
      "metadata": {
        "id": "P6r8Oz81rtLJ"
      },
      "source": [
        "Task5"
      ]
    },
    {
      "cell_type": "code",
      "execution_count": null,
      "metadata": {
        "colab": {
          "base_uri": "https://localhost:8080/"
        },
        "id": "BusbXYpn1j1U",
        "outputId": "e1daf06d-dc49-481b-8b30-68e48c440237"
      },
      "outputs": [
        {
          "name": "stdout",
          "output_type": "stream",
          "text": [
            "\n",
            "D\n",
            "DR\n",
            "DRE\n",
            "DREA\n",
            "DREAM\n"
          ]
        }
      ],
      "source": [
        "s=\"DREAM\"\n",
        "for i in range (len(s)+1):\n",
        "  for j in range (i):\n",
        "    print(s[j],end=\"\")\n",
        "  print()"
      ]
    },
    {
      "cell_type": "code",
      "source": [
        "s=\"DREAM\"\n",
        "for i in range (len(s)):\n",
        "    print(s[:i+1])"
      ],
      "metadata": {
        "colab": {
          "base_uri": "https://localhost:8080/"
        },
        "id": "nJFd8XALyexL",
        "outputId": "7c4c4c78-1ff1-4aea-978e-11f75fbc19ab"
      },
      "execution_count": null,
      "outputs": [
        {
          "output_type": "stream",
          "name": "stdout",
          "text": [
            "D\n",
            "DR\n",
            "DRE\n",
            "DREA\n",
            "DREAM\n"
          ]
        }
      ]
    },
    {
      "cell_type": "code",
      "execution_count": null,
      "metadata": {
        "colab": {
          "base_uri": "https://localhost:8080/"
        },
        "id": "ehU_ePUw6c1R",
        "outputId": "f9b5f982-4188-4dc4-bafb-ed9b0950b23c"
      },
      "outputs": [
        {
          "name": "stdout",
          "output_type": "stream",
          "text": [
            "D\n",
            "DR\n",
            "DRE\n",
            "DREA\n",
            "DREAM\n"
          ]
        }
      ],
      "source": [
        "print(s[:1]+\"\\n\"+s[:2]+\"\\n\"+s[:3]+\"\\n\"+s[:4]+\"\\n\"+s[:])"
      ]
    },
    {
      "cell_type": "markdown",
      "metadata": {
        "id": "na8gj6fRrtN3"
      },
      "source": [
        "Task6"
      ]
    },
    {
      "cell_type": "code",
      "execution_count": null,
      "metadata": {
        "colab": {
          "base_uri": "https://localhost:8080/"
        },
        "id": "NdKwbTZk75uO",
        "outputId": "26dff6e5-028a-4134-df6b-5025c37877da"
      },
      "outputs": [
        {
          "name": "stdout",
          "output_type": "stream",
          "text": [
            "Programming\n",
            "P:80\n",
            "r:114\n",
            "o:111\n",
            "g:103\n",
            "r:114\n",
            "a:97\n",
            "m:109\n",
            "m:109\n",
            "i:105\n",
            "n:110\n",
            "g:103\n"
          ]
        }
      ],
      "source": [
        "s=input()\n",
        "for i in s:\n",
        "  print(i+\":\"+str(ord(i)))"
      ]
    },
    {
      "cell_type": "markdown",
      "metadata": {
        "id": "0VDIMLJ7rtRA"
      },
      "source": [
        "Task7"
      ]
    },
    {
      "cell_type": "code",
      "execution_count": null,
      "metadata": {
        "colab": {
          "base_uri": "https://localhost:8080/"
        },
        "id": "QcNo3EHn9nfO",
        "outputId": "5fb139dc-8f9a-4fdb-ac91-44ac42505391"
      },
      "outputs": [
        {
          "name": "stdout",
          "output_type": "stream",
          "text": [
            "xyz\n",
            "yza\n"
          ]
        }
      ],
      "source": [
        "s=input()\n",
        "for i in s:\n",
        "  if(i=='z'):\n",
        "    print('a')\n",
        "  else:\n",
        "    print(chr(ord(i)+1), end=\"\")"
      ]
    },
    {
      "cell_type": "markdown",
      "metadata": {
        "id": "ch0bxEeDrtT2"
      },
      "source": [
        "Task8"
      ]
    },
    {
      "cell_type": "code",
      "execution_count": null,
      "metadata": {
        "colab": {
          "base_uri": "https://localhost:8080/"
        },
        "id": "eCSsLLUnj_sQ",
        "outputId": "a22646eb-af60-4b7f-9866-32f497b00737"
      },
      "outputs": [
        {
          "name": "stdout",
          "output_type": "stream",
          "text": [
            "String\n",
            "TIG\n"
          ]
        }
      ],
      "source": [
        "s=input()\n",
        "t=\"\"\n",
        "for i in range(len(s)):\n",
        "  if(i%2==0):\n",
        "    pass\n",
        "  else:\n",
        "    t+=chr(ord(s[i])-32)\n",
        "print(t)"
      ]
    },
    {
      "cell_type": "markdown",
      "metadata": {
        "id": "FiSq4rhwrtWG"
      },
      "source": [
        "Task9"
      ]
    },
    {
      "cell_type": "code",
      "execution_count": null,
      "metadata": {
        "colab": {
          "base_uri": "https://localhost:8080/"
        },
        "id": "gVP7WoacljvI",
        "outputId": "88e5760a-f100-44f6-edc5-9e1bf2f84465"
      },
      "outputs": [
        {
          "name": "stdout",
          "output_type": "stream",
          "text": [
            "AAAAAAAABBBCDDDDD\n",
            "ABCD"
          ]
        }
      ],
      "source": [
        "s= input()\n",
        "m=\"\"\n",
        "for i in s:\n",
        "  if(i!=m):\n",
        "    print(i,end=\"\")\n",
        "  m=i"
      ]
    },
    {
      "cell_type": "markdown",
      "metadata": {
        "id": "vncd0vQ1rtY2"
      },
      "source": [
        "Task10"
      ]
    },
    {
      "cell_type": "code",
      "execution_count": null,
      "metadata": {
        "colab": {
          "base_uri": "https://localhost:8080/"
        },
        "id": "A2KqUyTgsMNT",
        "outputId": "07d5698e-8fdb-4db0-fa5f-c4c55c7c1790"
      },
      "outputs": [
        {
          "name": "stdout",
          "output_type": "stream",
          "text": [
            "ijkl, ABCDENDFGH\n",
            "iAjBkClDENDFGH\n"
          ]
        }
      ],
      "source": [
        "s=input()\n",
        "s1=\"\"\n",
        "s2=\"\"\n",
        "txt=\"\"\n",
        "for i in range(len(s)):\n",
        "  if(s[i]==','):\n",
        "    s2=s[i+2:]\n",
        "    break\n",
        "  else:\n",
        "    s1+=s[i]\n",
        "if(len(s1)>len(s2)):\n",
        "  for i in range(len(s2)):\n",
        "    txt+=s1[i]+s2[i]\n",
        "  txt+=s1[len(s2):]\n",
        "else:\n",
        "  for i in range(len(s1)):\n",
        "    txt+=s1[i]+s2[i]\n",
        "  txt+=s2[len(s1):]\n",
        "print(txt)"
      ]
    },
    {
      "cell_type": "markdown",
      "metadata": {
        "id": "NrIqAOei-Gk5"
      },
      "source": [
        "Task11"
      ]
    },
    {
      "cell_type": "code",
      "execution_count": null,
      "metadata": {
        "colab": {
          "base_uri": "https://localhost:8080/"
        },
        "id": "7JgxlXMi-IF2",
        "outputId": "cbe8f239-d828-4624-b1c3-b10c81f996fc"
      },
      "outputs": [
        {
          "name": "stdout",
          "output_type": "stream",
          "text": [
            "5 == 5\n",
            "2 == 2\n",
            "0 == 0\n",
            "-3 != -2\n",
            "-5 != -5\n",
            "-8 != -7\n",
            "-10 != -10\n"
          ]
        }
      ],
      "source": [
        "i = 10\n",
        "while(i >= -20):\n",
        " if(i < 0):\n",
        "   test = \" != \"\n",
        "   test = str(i//2) + test + str(int(i/2))\n",
        " else:\n",
        "   test = \" == \"\n",
        "   test = str(i//2) + test + str(int(i/2))\n",
        " print(test)\n",
        " i -= 5"
      ]
    },
    {
      "cell_type": "code",
      "execution_count": null,
      "metadata": {
        "colab": {
          "base_uri": "https://localhost:8080/"
        },
        "id": "158wXpZO_1TJ",
        "outputId": "41a5ec93-8074-4de7-857d-bfbb9ade6082"
      },
      "outputs": [
        {
          "output_type": "stream",
          "name": "stdout",
          "text": [
            "-2.5\n"
          ]
        }
      ],
      "source": [
        "print(-5/2)"
      ]
    },
    {
      "cell_type": "code",
      "source": [
        "print(-5//2)"
      ],
      "metadata": {
        "colab": {
          "base_uri": "https://localhost:8080/"
        },
        "id": "tis7JEAWCVwH",
        "outputId": "b2555c27-e0c1-4ce0-fde9-166aa2f2298d"
      },
      "execution_count": null,
      "outputs": [
        {
          "output_type": "stream",
          "name": "stdout",
          "text": [
            "-3\n"
          ]
        }
      ]
    }
  ],
  "metadata": {
    "colab": {
      "provenance": [],
      "authorship_tag": "ABX9TyNL5PzlKSZdAc0egxzUJN/I",
      "include_colab_link": true
    },
    "kernelspec": {
      "display_name": "Python 3",
      "name": "python3"
    },
    "language_info": {
      "name": "python"
    }
  },
  "nbformat": 4,
  "nbformat_minor": 0
}